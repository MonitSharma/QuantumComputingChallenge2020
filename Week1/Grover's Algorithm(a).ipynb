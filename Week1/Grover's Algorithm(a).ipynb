{
 "cells": [
  {
   "cell_type": "markdown",
   "metadata": {},
   "source": [
    "## Qiskit Implementation of Grover's Algorithm\n"
   ]
  },
  {
   "cell_type": "markdown",
   "metadata": {},
   "source": [
    "we will use two qubits to find the state $|11\\rangle$."
   ]
  },
  {
   "cell_type": "code",
   "execution_count": 1,
   "metadata": {},
   "outputs": [],
   "source": [
    "\n",
    "#importing Python libraries\n",
    "import matplotlib.pyplot as plt\n",
    "%matplotlib inline\n",
    "import numpy as np\n",
    "\n",
    "# importing Qiskit libraries\n",
    "from qiskit import IBMQ, BasicAer\n",
    "from qiskit.providers.ibmq import least_busy\n",
    "from qiskit import QuantumCircuit, ClassicalRegister, QuantumRegister, execute\n",
    "\n",
    "# import libraries to plot \n",
    "from qiskit.tools.visualization import plot_histogram"
   ]
  },
  {
   "cell_type": "markdown",
   "metadata": {},
   "source": [
    "Let Us create an Oracle"
   ]
  },
  {
   "cell_type": "code",
   "execution_count": 2,
   "metadata": {},
   "outputs": [
    {
     "data": {
      "image/png": "[encoded data removed]",
      "text/plain": [
       "<Figure size 159.633x144.48 with 1 Axes>"
      ]
     },
     "execution_count": 2,
     "metadata": {},
     "output_type": "execute_result"
    }
   ],
   "source": [
    "def phase_oracle(circuit, register):  ## defining a Function phase_oracle  that take inputs the circuit and the register\n",
    "    circuit.cz(register[0], register[1])   ##making the CNot gate on the Z axis\n",
    "\n",
    "qr = QuantumRegister(2)  ## a two qubit quantum register\n",
    "oracleCircuit = QuantumCircuit(qr)  ## naming the Circuit as oracle Circuit \n",
    "phase_oracle(oracleCircuit, qr) ## calling the phase_oracle function\n",
    "oracleCircuit.draw(output=\"mpl\")"
   ]
  },
  {
   "cell_type": "markdown",
   "metadata": {},
   "source": [
    "set up the circuit for inversion about the average. This circuit is sometimes called an amplitude ampification module or a diffusion circuit."
   ]
  },
  {
   "cell_type": "code",
   "execution_count": 3,
   "metadata": {},
   "outputs": [],
   "source": [
    "\n",
    "def inversion_about_average(circuit, register):  ## defining a Function to invert the amplitude of our desired state\n",
    "\n",
    "    circuit.h(register)  ## applying the Hadamard gate on both the register\n",
    "    circuit.x(register) ## applying the NOT gate on both the register\n",
    "    circuit.h(register[1]) ## applying the Hadamard gate on the second register\n",
    "    circuit.cx(register[0], register[1]) ## applying the CNOT gate on register 0 and getting its output on register 1\n",
    "    circuit.h(register[1]) ## applying the Hadamard gate on register 1\n",
    "    circuit.x(register) ##applying the NOT gate on both the register\n",
    "    circuit.h(register) ## applying thr Hadamard gate on both the register"
   ]
  },
  {
   "cell_type": "code",
   "execution_count": 4,
   "metadata": {},
   "outputs": [
    {
     "data": {
      "image/png": "[encoded data removed]",
      "text/plain": [
       "<Figure size 520.833x144.48 with 1 Axes>"
      ]
     },
     "execution_count": 4,
     "metadata": {},
     "output_type": "execute_result"
    }
   ],
   "source": [
    "### drawing the Circuit\n",
    "qAverage = QuantumCircuit(qr)\n",
    "inversion_about_average(qAverage, qr)\n",
    "qAverage.draw(output='mpl')"
   ]
  },
  {
   "cell_type": "markdown",
   "metadata": {},
   "source": [
    "### Putting the Pieces together "
   ]
  },
  {
   "cell_type": "code",
   "execution_count": 5,
   "metadata": {},
   "outputs": [
    {
     "data": {
      "image/png": "[encoded data removed]",
      "text/plain": [
       "<Figure size 761.778x204.68 with 1 Axes>"
      ]
     },
     "execution_count": 5,
     "metadata": {},
     "output_type": "execute_result"
    }
   ],
   "source": [
    "qr = QuantumRegister(2) ## making the Quantum Circuit\n",
    "cr = ClassicalRegister(2)\n",
    "\n",
    "groverCircuit = QuantumCircuit(qr,cr) ## naming the Circuit as grover Circuit\n",
    "groverCircuit.h(qr) ## applying an Hadamard gate on the quantum register\n",
    "\n",
    "phase_oracle(groverCircuit, qr) ## applying the phase oracle circuit\n",
    "inversion_about_average(groverCircuit, qr) ## inverting the amplitude\n",
    "\n",
    "groverCircuit.measure(qr,cr) ## measuring the output\n",
    "groverCircuit.draw(output=\"mpl\") ## drawing the circuit"
   ]
  },
  {
   "cell_type": "markdown",
   "metadata": {},
   "source": [
    "## Running on a Simulator"
   ]
  },
  {
   "cell_type": "code",
   "execution_count": 6,
   "metadata": {},
   "outputs": [
    {
     "data": {
      "image/png": "[encoded data removed]",
      "text/plain": [
       "<Figure size 504x360 with 1 Axes>"
      ]
     },
     "execution_count": 6,
     "metadata": {},
     "output_type": "execute_result"
    }
   ],
   "source": [
    "backend = BasicAer.get_backend('qasm_simulator')  ## running it on a QASM Simulator\n",
    "shots = 1024 ## no of shots we are sending\n",
    "results = execute(groverCircuit, backend=backend, shots=shots).result()\n",
    "answer = results.get_counts() ## collecting the results\n",
    "plot_histogram(answer)"
   ]
  },
  {
   "cell_type": "markdown",
   "metadata": {},
   "source": [
    "## Doing it on a Real Quantum Computer"
   ]
  },
  {
   "cell_type": "code",
   "execution_count": 7,
   "metadata": {},
   "outputs": [
    {
     "name": "stderr",
     "output_type": "stream",
     "text": [
      "C:\\Users\\Monit Sharma\\Documents\\Anaconda\\lib\\site-packages\\qiskit\\providers\\ibmq\\ibmqfactory.py:192: UserWarning: Timestamps in IBMQ backend properties, jobs, and job results are all now in local time instead of UTC.\n",
      "  warnings.warn('Timestamps in IBMQ backend properties, jobs, and job results '\n"
     ]
    },
    {
     "name": "stdout",
     "output_type": "stream",
     "text": [
      "Least busy backend:  ibmq_ourense\n"
     ]
    }
   ],
   "source": [
    "IBMQ.load_account()  ## loading our IBM Quantum Computer Account\n",
    "provider = IBMQ.get_provider(hub='ibm-q')\n",
    "backend_lb = least_busy(provider.backends(filters=lambda b: b.configuration().n_qubits >= 3 and\n",
    "                                   not b.configuration().simulator and b.status().operational==True))\n",
    "## finding the least busy Quantum computer \n",
    "print(\"Least busy backend: \", backend_lb)\n",
    "## print the least busy quantum computer "
   ]
  },
  {
   "cell_type": "code",
   "execution_count": 8,
   "metadata": {},
   "outputs": [
    {
     "name": "stdout",
     "output_type": "stream",
     "text": [
      "Job Status: job has successfully run\n"
     ]
    }
   ],
   "source": [
    "# Run our circuit on the least busy backend. Monitor the execution of the job in the queue\n",
    "from qiskit.tools.monitor import job_monitor\n",
    "\n",
    "backend = backend_lb\n",
    "shots = 1024\n",
    "job_exp = execute(groverCircuit, backend=backend, shots=shots)  ## run the job on the quantum Computer\n",
    "\n",
    "job_monitor(job_exp, interval = 2)"
   ]
  },
  {
   "cell_type": "code",
   "execution_count": 9,
   "metadata": {},
   "outputs": [
    {
     "data": {
      "image/png": "[encoded data removed]",
      "text/plain": [
       "<Figure size 504x360 with 1 Axes>"
      ]
     },
     "execution_count": 9,
     "metadata": {},
     "output_type": "execute_result"
    }
   ],
   "source": [
    "results = job_exp.result()\n",
    "answer = results.get_counts(groverCircuit)\n",
    "plot_histogram(answer) ##plot the output we got from the actual Quantum Computer"
   ]
  },
  {
   "cell_type": "markdown",
   "metadata": {},
   "source": [
    "We are getting the desired output 88% of times"
   ]
  },
  {
   "cell_type": "markdown",
   "metadata": {},
   "source": [
    "## Grover's Algorithm on Auxillary Bits"
   ]
  },
  {
   "cell_type": "markdown",
   "metadata": {},
   "source": [
    "We are going to find the state $|11\\rangle$ just like in the previous example, but this time we will use an auxiliary bit. Auxiliary bits let you work with more qubits or implement more complex oracles."
   ]
  },
  {
   "cell_type": "code",
   "execution_count": 10,
   "metadata": {},
   "outputs": [],
   "source": [
    "# Importing the Necessary Libraries\n",
    "import matplotlib.pyplot as plt\n",
    "%matplotlib inline\n",
    "import numpy as np\n",
    "\n",
    "# Importing Qiskit\n",
    "from qiskit import IBMQ, BasicAer\n",
    "from qiskit.providers.ibmq import least_busy\n",
    "from qiskit import QuantumCircuit, ClassicalRegister, QuantumRegister, execute\n",
    "\n",
    "# Import basic plot tools\n",
    "from qiskit.tools.visualization import plot_histogram"
   ]
  },
  {
   "cell_type": "markdown",
   "metadata": {},
   "source": [
    "\n",
    "We will create an oracle that will flip the phase of the answer we are looking for ( in this case $|11\\rangle$ ). This time, using the auxiliary bit to make the target bit's phase flip when the input state is $|11\\rangle$ . Note that in order to make this phase flip work, you need to prepare the auxiliary bit to be $|1\\rangle$ by using an x gate."
   ]
  },
  {
   "cell_type": "code",
   "execution_count": 11,
   "metadata": {},
   "outputs": [
    {
     "data": {
      "image/png": "[encoded data removed]",
      "text/plain": [
       "<Figure size 353.795x204.68 with 1 Axes>"
      ]
     },
     "execution_count": 11,
     "metadata": {},
     "output_type": "execute_result"
    }
   ],
   "source": [
    "\n",
    "def phase_oracle(circuit, register,oracle_register):  ## defining the oracle function\n",
    "    circuit.h(oracle_register)\n",
    "    circuit.ccx(register[0], register[1],oracle_register) ## defining the circuits\n",
    "    circuit.h(oracle_register)\n",
    "    \n",
    "qr = QuantumRegister(3)  ## making a 3 qubit Quantum Register\n",
    "oracleCircuit = QuantumCircuit(qr) ## naming the quantum circuit as oracle circuit\n",
    "oracleCircuit.x(qr[2])  ## applying the  X gate  for the phase flip to work\n",
    "phase_oracle(oracleCircuit, qr,qr[2])\n",
    "oracleCircuit.draw(output=\"mpl\")"
   ]
  },
  {
   "cell_type": "markdown",
   "metadata": {},
   "source": [
    "The amplitude amplification module/diffusion circuit. Make sure that the circuit does not act on the auxiliary bit."
   ]
  },
  {
   "cell_type": "code",
   "execution_count": 12,
   "metadata": {},
   "outputs": [],
   "source": [
    "\n",
    "## applying the Circuit same as above\n",
    "\n",
    "def inversion_about_average(circuit, register):\n",
    "    \n",
    "    circuit.h(register)\n",
    "    circuit.x(register)\n",
    "    circuit.h(register[1])\n",
    "    circuit.cx(register[0], register[1])\n",
    "    circuit.h(register[1])\n",
    "    circuit.x(register)\n",
    "    circuit.h(register)"
   ]
  },
  {
   "cell_type": "code",
   "execution_count": 13,
   "metadata": {},
   "outputs": [
    {
     "data": {
      "image/png": "[encoded data removed]",
      "text/plain": [
       "<Figure size 534.395x204.68 with 1 Axes>"
      ]
     },
     "execution_count": 13,
     "metadata": {},
     "output_type": "execute_result"
    }
   ],
   "source": [
    "## plotting the Circuit\n",
    "qAverage = QuantumCircuit(qr)\n",
    "inversion_about_average(qAverage, qr[0:2])\n",
    "qAverage.draw(output='mpl')"
   ]
  },
  {
   "cell_type": "code",
   "execution_count": 14,
   "metadata": {},
   "outputs": [
    {
     "data": {
      "image/png": "[encoded data removed]",
      "text/plain": [
       "<Figure size 835.395x264.88 with 1 Axes>"
      ]
     },
     "execution_count": 14,
     "metadata": {},
     "output_type": "execute_result"
    }
   ],
   "source": [
    "qr = QuantumRegister(3)\n",
    "cr = ClassicalRegister(3)\n",
    "\n",
    "groverCircuit = QuantumCircuit(qr,cr)\n",
    "groverCircuit.h(qr[0:2])\n",
    "groverCircuit.x(qr[2])\n",
    "\n",
    "phase_oracle(groverCircuit, qr,qr[2])\n",
    "inversion_about_average(groverCircuit, qr[0:2])\n",
    "\n",
    "groverCircuit.measure(qr,cr)\n",
    "groverCircuit.draw(output=\"mpl\")"
   ]
  },
  {
   "cell_type": "markdown",
   "metadata": {},
   "source": [
    "## Running on the Simulator"
   ]
  },
  {
   "cell_type": "code",
   "execution_count": 15,
   "metadata": {},
   "outputs": [
    {
     "data": {
      "image/png": "[encoded data removed]",
      "text/plain": [
       "<Figure size 504x360 with 1 Axes>"
      ]
     },
     "execution_count": 15,
     "metadata": {},
     "output_type": "execute_result"
    }
   ],
   "source": [
    "\n",
    "backend = BasicAer.get_backend('qasm_simulator')\n",
    "shots = 1024\n",
    "results = execute(groverCircuit, backend=backend, shots=shots).result()\n",
    "answer = results.get_counts()\n",
    "plot_histogram(answer)"
   ]
  },
  {
   "cell_type": "markdown",
   "metadata": {},
   "source": [
    "## Number of Iterations\n",
    "\n",
    " The number of Grover algorithm iterations to be performed before the solution is fully amplified is approximately $\\sqrt{N}$\n",
    " \n",
    "When running Grover's algorithm on a database with $N = 2^4$, the probabilities obtained by changing the number of iterations are as follows."
   ]
  },
  {
   "cell_type": "code",
   "execution_count": 16,
   "metadata": {},
   "outputs": [],
   "source": [
    "\n",
    "backend = BasicAer.get_backend('qasm_simulator')\n",
    "prob_of_ans = []\n",
    "\n",
    "for x in range(12):\n",
    "    database = QuantumRegister(4)\n",
    "    oracle = QuantumRegister(1)\n",
    "    auxiliary = QuantumRegister(2) \n",
    "    cr = ClassicalRegister(4)\n",
    "    qc = QuantumCircuit(database, oracle, auxiliary, cr)\n",
    "    qc.h(database[:])\n",
    "    qc.x(oracle[0])\n",
    "    qc.h(oracle[0])\n",
    "\n",
    "\n",
    "    for j in range(x):\n",
    "    # oracle_4q\n",
    "        # search 7: 0111 \n",
    "        qc.x(database[0])\n",
    "        qc.mct(database[:], oracle[0], auxiliary[:], mode='basic') \n",
    "        qc.x(database[0])\n",
    "\n",
    "    # diffusion_4q\n",
    "        qc.h(database[:])\n",
    "        qc.x(database[:])\n",
    "        qc.h(database[3])\n",
    "        qc.mct(database[0:3], database[3], auxiliary[:], mode='basic')\n",
    "        qc.h(database[3])\n",
    "        qc.x(database[:])\n",
    "        qc.h(database[:])\n",
    "\n",
    "\n",
    "    qc.h(oracle[0])\n",
    "    qc.x(oracle[0])\n",
    "    qc.measure(database,cr)\n",
    "    # Change the endian \n",
    "    qc = qc.reverse_bits() \n",
    "    \n",
    "    job = execute(qc, backend=backend, shots=1000, seed_simulator=12345, backend_options={\"fusion_enable\":True})\n",
    "    result = job.result()\n",
    "    count = result.get_counts()\n",
    "    answer = count['0111']\n",
    "    prob_of_ans.append(answer)"
   ]
  },
  {
   "cell_type": "code",
   "execution_count": 17,
   "metadata": {},
   "outputs": [
    {
     "data": {
      "text/plain": [
       "Text(0, 0.5, '# of times the solution was obtained')"
      ]
     },
     "execution_count": 17,
     "metadata": {},
     "output_type": "execute_result"
    },
    {
     "data": {
      "image/png": "[encoded data removed]",
      "text/plain": [
       "<Figure size 432x288 with 1 Axes>"
      ]
     },
     "metadata": {
      "needs_background": "light"
     },
     "output_type": "display_data"
    }
   ],
   "source": [
    "import numpy as np\n",
    "import matplotlib.pyplot as plt\n",
    "iteration = [i for i in range(12)]\n",
    "correct = prob_of_ans\n",
    "plt.bar(iteration, correct)\n",
    "plt.xlabel('# of iteration')\n",
    "plt.ylabel('# of times the solution was obtained')"
   ]
  }
 ],
 "metadata": {
  "kernelspec": {
   "display_name": "Python 3",
   "language": "python",
   "name": "python3"
  },
  "language_info": {
   "codemirror_mode": {
    "name": "ipython",
    "version": 3
   },
   "file_extension": ".py",
   "mimetype": "text/x-python",
   "name": "python",
   "nbconvert_exporter": "python",
   "pygments_lexer": "ipython3",
   "version": "3.8.5"
  }
 },
 "nbformat": 4,
 "nbformat_minor": 4
}
